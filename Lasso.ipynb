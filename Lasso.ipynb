{
 "cells": [
  {
   "cell_type": "code",
   "execution_count": 1,
   "metadata": {},
   "outputs": [],
   "source": [
    "#Task 1 : Load the scikit-learn version of the diabetes dataset into your Jupyter notebook using the load_diabetes function.\n",
    "from sklearn.datasets import load_diabetes\n",
    "import numpy as np\n",
    "diabetes = load_diabetes()"
   ]
  },
  {
   "cell_type": "code",
   "execution_count": 2,
   "metadata": {},
   "outputs": [],
   "source": [
    "#Task 2 : splitting diabetes dataset into training and test sets\n",
    "from sklearn.model_selection import train_test_split\n",
    "X_train, X_test, y_train, y_test = train_test_split(diabetes['data'],\n",
    "diabetes['target'], random_state=301)"
   ]
  },
  {
   "cell_type": "code",
   "execution_count": 3,
   "metadata": {},
   "outputs": [],
   "source": [
    "#Function to computes the lasso model and prints Train R2, Test R2 and Number of Features\n",
    "from sklearn.linear_model import Lasso \n",
    "def getLassoScore(X_train,y_train,X_test,y_test,alpha=1):\n",
    "    \"\"\"\n",
    "    This function computes the lasso model and prints Train R2, Test R2 and Number of Features Lasso uses\n",
    "    \"\"\"\n",
    "    lasso = Lasso(alpha,max_iter=100000).fit(X_train,y_train) \n",
    "    lasso.score(X_train,y_train)\n",
    "    print(\"Train R2: \",lasso.score(X_train,y_train))\n",
    "    lasso.score(X_test,y_test)\n",
    "    print(\"Test R2: \",lasso.score(X_test,y_test))\n",
    "    np.sum(lasso.coef_!= 0)\n",
    "    print(\"Number of Features used: \",np.sum(lasso.coef_!= 0))\n",
    "    trueValues = np.array([])\n",
    "    for index,f in enumerate(diabetes['feature_names']):\n",
    "        if ((lasso.coef_!=0)[index])!=False:\n",
    "            trueValues = np.append(trueValues,f)\n",
    "    print(\"The features that Lasso uses are: \",trueValues)\n",
    "    return lasso"
   ]
  },
  {
   "cell_type": "code",
   "execution_count": 4,
   "metadata": {},
   "outputs": [
    {
     "name": "stdout",
     "output_type": "stream",
     "text": [
      "Train R2:  0.3645016457656399\n",
      "Test R2:  0.34096724536437095\n",
      "Number of Features used:  2\n",
      "The features that Lasso uses are:  ['bmi' 's5']\n"
     ]
    }
   ],
   "source": [
    "#Task 3 : training and test R2 for the Lasso model using the default parameters, number of features used\n",
    "import numpy as np\n",
    "lasso = getLassoScore(X_train,y_train,X_test,y_test)"
   ]
  },
  {
   "cell_type": "code",
   "execution_count": 5,
   "metadata": {},
   "outputs": [],
   "source": [
    "#Task 4 : load the original diabetes dataset from the web page given above\n",
    "X_original = np.genfromtxt(\"diabetes.data\", delimiter=\"\\t\",\n",
    "usecols=np.arange(10),skip_header=1)"
   ]
  },
  {
   "cell_type": "code",
   "execution_count": 6,
   "metadata": {},
   "outputs": [],
   "source": [
    "y_original = np.genfromtxt(\"diabetes.data\", delimiter=\"\\t\",\n",
    "    usecols=10, dtype='int',skip_header=1)"
   ]
  },
  {
   "cell_type": "code",
   "execution_count": 7,
   "metadata": {},
   "outputs": [],
   "source": [
    "#splitting diabetes dataset into training and test sets using 3rd January as Random state\n",
    "X_original_train, X_original_test, y_original_train, y_original_test = train_test_split(X_original,\n",
    "y_original, random_state=301)"
   ]
  },
  {
   "cell_type": "code",
   "execution_count": 8,
   "metadata": {},
   "outputs": [
    {
     "name": "stdout",
     "output_type": "stream",
     "text": [
      "Train R2:  0.5165159066179559\n",
      "Test R2:  0.4768272585581068\n",
      "Number of Features used:  10\n",
      "The features that Lasso uses are:  ['age' 'sex' 'bmi' 'bp' 's1' 's2' 's3' 's4' 's5' 's6']\n"
     ]
    }
   ],
   "source": [
    "#Task 6 : Repeat item 3 for the current dataset\n",
    "lasso_original = getLassoScore(X_original_train,y_original_train,X_original_test,y_original_test)"
   ]
  },
  {
   "cell_type": "code",
   "execution_count": 9,
   "metadata": {},
   "outputs": [],
   "source": [
    "#Comments : We see that the lasso score (R2) is better for the original dataset for both train and test"
   ]
  },
  {
   "cell_type": "code",
   "execution_count": 10,
   "metadata": {},
   "outputs": [],
   "source": [
    "#Task 7 : Preprocess the training and test sets in the same way and avoiding data snooping. Use StandardScaler.\n",
    "from sklearn.preprocessing import StandardScaler\n",
    "scaler = StandardScaler()"
   ]
  },
  {
   "cell_type": "code",
   "execution_count": 11,
   "metadata": {},
   "outputs": [
    {
     "data": {
      "text/plain": [
       "StandardScaler()"
      ]
     },
     "execution_count": 11,
     "metadata": {},
     "output_type": "execute_result"
    }
   ],
   "source": [
    "scaler.fit(X_original_train)"
   ]
  },
  {
   "cell_type": "code",
   "execution_count": 12,
   "metadata": {},
   "outputs": [],
   "source": [
    "# transform train data\n",
    "X_train_scaled = scaler.transform(X_original_train) "
   ]
  },
  {
   "cell_type": "code",
   "execution_count": 13,
   "metadata": {},
   "outputs": [],
   "source": [
    "# transform test data\n",
    "X_test_scaled = scaler.transform(X_original_test)"
   ]
  },
  {
   "cell_type": "code",
   "execution_count": 14,
   "metadata": {},
   "outputs": [
    {
     "name": "stdout",
     "output_type": "stream",
     "text": [
      "Train R2:  0.5170435495102459\n",
      "Test R2:  0.4830814177499748\n",
      "Number of Features used:  8\n",
      "The features that Lasso uses are:  ['age' 'sex' 'bmi' 'bp' 's1' 's3' 's4' 's5']\n"
     ]
    }
   ],
   "source": [
    "#Repeat Step 3\n",
    "lasso_scaled = getLassoScore(X_train_scaled,y_original_train,X_test_scaled,y_original_test)"
   ]
  },
  {
   "cell_type": "code",
   "execution_count": 15,
   "metadata": {},
   "outputs": [],
   "source": [
    "#Comments : The current result for Lasso R2 for scaled dataset is closer to step 6 , reason being that the loaded data uses different normalise function."
   ]
  },
  {
   "cell_type": "code",
   "execution_count": 16,
   "metadata": {},
   "outputs": [
    {
     "data": {
      "image/png": "[encoded data removed]",
      "text/plain": [
       "<Figure size 432x288 with 1 Axes>"
      ]
     },
     "metadata": {
      "needs_background": "light"
     },
     "output_type": "display_data"
    }
   ],
   "source": [
    "#Task 9 : Varying the parameter α in the Lasso, plot the test R2 vs the number of features used\n",
    "import matplotlib.pyplot as plt\n",
    "lasso_scaled_plot = np.array([])\n",
    "no_of_features_plot = np.array([])\n",
    "\n",
    "alpha_values = np.array([0.01, 1, 10, 20, 30, 40, 45, 50])\n",
    "\n",
    "for alpha in alpha_values:\n",
    "    #r2 for y axis\n",
    "    test_r_square_diff_alpha = Lasso(alpha, max_iter=100000).fit(X_train_scaled,y_original_train)\n",
    "    score_for_plot = test_r_square_diff_alpha.score(X_test_scaled,y_original_test)\n",
    "    lasso_scaled_plot = np.append(lasso_scaled_plot,score_for_plot)\n",
    "    \n",
    "    #no of features for x axis\n",
    "    no_of_features = np.sum(test_r_square_diff_alpha.coef_!= 0)\n",
    "    no_of_features_plot = np.append(no_of_features_plot,no_of_features)\n",
    "\n",
    "plt.plot(no_of_features_plot, lasso_scaled_plot,'go-')\n",
    "# set the basic properties\n",
    "for index, a in enumerate(lasso_scaled_plot):\n",
    "    alpha = 'α = '+ str(alpha_values[index])\n",
    "    plt.annotate(alpha, (no_of_features_plot[index], lasso_scaled_plot[index]),textcoords=\"offset points\",xytext=(25,-15),ha='center')\n",
    "\n",
    "plt.xlabel('Number of Features')\n",
    "plt.ylabel('Test R Square')\n",
    "plt.ylim([0, 0.6])\n",
    "plt.xlim([0, 12])\n",
    "plt.title('Change in Test R2 and Number of Features for Different α')\n",
    "plt.grid()"
   ]
  },
  {
   "cell_type": "code",
   "execution_count": 17,
   "metadata": {},
   "outputs": [],
   "source": [
    "#I prefer point with α = 1. This seems like the best fit for our model. Since increasing or decreasing α from 1 does not give better results."
   ]
  },
  {
   "cell_type": "code",
   "execution_count": 18,
   "metadata": {},
   "outputs": [
    {
     "name": "stdout",
     "output_type": "stream",
     "text": [
      "α for highest value of cross validation:  1.0\n"
     ]
    }
   ],
   "source": [
    "#Task 10: Choose the regularization parameter for the Lasso using cross-validation on the training set. Train the Lasso on the whole training set using the chosen values of the parameters\n",
    "from sklearn.model_selection import cross_val_score \n",
    "cross_validation_scores = np.array([])\n",
    "for alpha in alpha_values:\n",
    "    lasso_for_alpha = Lasso(alpha, max_iter=100000).fit(X_train_scaled,y_original_train)\n",
    "    score =  np.mean(cross_val_score(lasso_for_alpha,X_train_scaled,y_original_train,cv=5))\n",
    "    cross_validation_scores = np.append(cross_validation_scores,score)\n",
    "    index_of_highest_score= np.argmax(cross_validation_scores)\n",
    "    alpha_to_use = alpha_values[index_of_highest_score]\n",
    "print(\"α for highest value of cross validation: \",alpha_to_use)"
   ]
  },
  {
   "cell_type": "code",
   "execution_count": 19,
   "metadata": {},
   "outputs": [
    {
     "name": "stdout",
     "output_type": "stream",
     "text": [
      "Train R2:  0.5170435495102459\n",
      "Test R2:  0.4830814177499748\n",
      "Number of Features used:  8\n",
      "The features that Lasso uses are:  ['age' 'sex' 'bmi' 'bp' 's1' 's3' 's4' 's5']\n"
     ]
    }
   ],
   "source": [
    "#Report the resulting training and test R2 and the number of features used\n",
    "lasso_for_selected_alpha = getLassoScore(X_train_scaled,y_original_train,X_test_scaled,y_original_test,alpha_to_use)"
   ]
  },
  {
   "cell_type": "code",
   "execution_count": 20,
   "metadata": {},
   "outputs": [],
   "source": [
    "#Task 11 : Implement an inductive conformal predictor\n",
    "#Task 11 (a) : Split the training set that you obtained in item 5 into two part\n",
    "X_original = np.genfromtxt(\"diabetes.data\", delimiter=\"\\t\", usecols=np.arange(10),skip_header=1)\n",
    "y_original = np.genfromtxt(\"diabetes.data\", delimiter=\"\\t\", usecols=10, dtype='int',skip_header=1)\n",
    "#splitting diabetes dataset into training and test sets\n",
    "X_original_train, X_original_test, y_original_train, y_original_test = train_test_split(X_original,\n",
    "y_original, random_state=301)\n",
    "#splitting train dataset into training and calibration sets\n",
    "X_train_proper, X_calibration, y_train_proper, y_calibration = train_test_split(X_original_train,\n",
    "y_original_train,test_size=99, random_state=301)"
   ]
  },
  {
   "cell_type": "code",
   "execution_count": 21,
   "metadata": {},
   "outputs": [
    {
     "data": {
      "text/plain": [
       "StandardScaler()"
      ]
     },
     "execution_count": 21,
     "metadata": {},
     "output_type": "execute_result"
    }
   ],
   "source": [
    "#Task 11 (b) : Preprocess the training set proper, calibration set, and test set in the same way using StandardScaler\n",
    "scaler = StandardScaler()\n",
    "scaler.fit(X_train_proper)"
   ]
  },
  {
   "cell_type": "code",
   "execution_count": 22,
   "metadata": {},
   "outputs": [],
   "source": [
    "# transform data\n",
    "X_train_proper_scaled = scaler.transform(X_train_proper) \n",
    "X_calibration_scaled = scaler.transform(X_calibration) \n",
    "X_original_test_scaled = scaler.transform(X_original_test) "
   ]
  },
  {
   "cell_type": "code",
   "execution_count": 23,
   "metadata": {},
   "outputs": [
    {
     "name": "stdout",
     "output_type": "stream",
     "text": [
      "α for highest value of cross validation:  1.0\n"
     ]
    }
   ],
   "source": [
    "#Task 11 (c) : Use the Lasso with parameters chosen by cross-validation on the training set proper\n",
    "cross_validation_scores_proper = np.array([])\n",
    "for alpha in alpha_values:\n",
    "    lasso_for_alpha = Lasso(alpha, max_iter=100000).fit(X_train_proper_scaled,y_train_proper)\n",
    "    score =  np.mean(cross_val_score(lasso_for_alpha,X_train_proper_scaled,y_train_proper,cv=5))\n",
    "    cross_validation_scores_proper = np.append(cross_validation_scores_proper,score)\n",
    "    index_of_highest_score= np.argmax(cross_validation_scores_proper)\n",
    "    alpha_to_use_proper = alpha_values[index_of_highest_score]\n",
    "print(\"α for highest value of cross validation: \",alpha_to_use_proper)"
   ]
  },
  {
   "cell_type": "code",
   "execution_count": 24,
   "metadata": {},
   "outputs": [],
   "source": [
    "lasso_for_prediction = Lasso(alpha_to_use_proper, max_iter=100000).fit(X_train_proper_scaled,y_train_proper)"
   ]
  },
  {
   "cell_type": "code",
   "execution_count": 25,
   "metadata": {},
   "outputs": [
    {
     "name": "stdout",
     "output_type": "stream",
     "text": [
      "Length of Interval for ϵ value 0.05:  204.79142774985547\n",
      "Test error Rate for ϵ value 0.05: 0.05405405405405406\n",
      "Length of Interval for ϵ value 0.2:  131.53795093669004\n",
      "Test error Rate for ϵ value 0.2: 0.22522522522522526\n"
     ]
    }
   ],
   "source": [
    "#for each test sample compute the prediction interval for it.\n",
    "y_cap = lasso_for_prediction.predict(X_calibration_scaled)\n",
    "calibration_score = abs(y_calibration-y_cap)\n",
    "e = np.array([0.05,0.2])\n",
    "y_test_pred = lasso_for_prediction.predict(X_original_test_scaled)\n",
    "for index, e_value in enumerate(e):\n",
    "    k = int(np.ceil((1-e_value)*(len(y_calibration)+1)))\n",
    "    score_partially_sorted = np.argpartition(calibration_score,k)\n",
    "    offset = calibration_score[score_partially_sorted[k]]\n",
    "    print(f\"Length of Interval for ϵ value {e_value}: \", 2*offset)\n",
    "    true_condition = np.array([])\n",
    "    for index,value in enumerate(y_test_pred):\n",
    "        if y_original_test[index]>= (y_test_pred[index]-offset) and y_original_test[index]<= (y_test_pred[index]+offset):\n",
    "            true_condition = np.append(true_condition,True)\n",
    "        else:\n",
    "            true_condition = np.append(true_condition,False)\n",
    "    print(f\"Test error Rate for ϵ value {e_value}:\",(1-np.mean(true_condition)))"
   ]
  }
 ],
 "metadata": {
  "kernelspec": {
   "display_name": "Python 3",
   "language": "python",
   "name": "python3"
  },
  "language_info": {
   "codemirror_mode": {
    "name": "ipython",
    "version": 3
   },
   "file_extension": ".py",
   "mimetype": "text/x-python",
   "name": "python",
   "nbconvert_exporter": "python",
   "pygments_lexer": "ipython3",
   "version": "3.8.5"
  }
 },
 "nbformat": 4,
 "nbformat_minor": 4
}
