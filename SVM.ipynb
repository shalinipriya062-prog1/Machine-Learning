{
 "cells": [
  {
   "cell_type": "code",
   "execution_count": 1,
   "metadata": {},
   "outputs": [],
   "source": [
    "#Task 1\n",
    "from sklearn.datasets import load_wine\n",
    "import numpy as np\n",
    "from sklearn.svm import SVC\n",
    "wine = load_wine()"
   ]
  },
  {
   "cell_type": "code",
   "execution_count": 2,
   "metadata": {},
   "outputs": [],
   "source": [
    "test_USPS = np.genfromtxt(\"zip.test\", delimiter=\" \")\n",
    "train_USPS = np.genfromtxt(\"zip.train\", delimiter=\" \")\n",
    "USPS = np.vstack((test_USPS,train_USPS))     \n",
    "X_USPS = USPS[:,1:]\n",
    "y_USPS = USPS[:,0]"
   ]
  },
  {
   "cell_type": "code",
   "execution_count": 3,
   "metadata": {},
   "outputs": [
    {
     "name": "stdout",
     "output_type": "stream",
     "text": [
      "(9298,)\n",
      "[9. 6. 3. ... 3. 0. 1.]\n"
     ]
    }
   ],
   "source": [
    "print(np.shape(y_USPS))\n",
    "print(y_USPS)"
   ]
  },
  {
   "cell_type": "code",
   "execution_count": 4,
   "metadata": {},
   "outputs": [],
   "source": [
    "#Task 2 \n",
    "#splitting wine dataset into training and test sets\n",
    "from sklearn.model_selection import train_test_split\n",
    "X_wine_train, X_wine_test, y_wine_train, y_wine_test = train_test_split(wine['data'],\n",
    "wine['target'], random_state=301)"
   ]
  },
  {
   "cell_type": "code",
   "execution_count": 49,
   "metadata": {},
   "outputs": [],
   "source": [
    "#splitting USPS dataset into training and test sets\n",
    "X_USPS_train, X_USPS_test, y_USPS_train, y_USPS_test = train_test_split(X_USPS,\n",
    "y_USPS, random_state=301)"
   ]
  },
  {
   "cell_type": "code",
   "execution_count": 6,
   "metadata": {},
   "outputs": [],
   "source": [
    "#print(np.shape(X_USPS_train))\n",
    "#print(np.shape(X_USPS_test))\n",
    "#print(wine.target)"
   ]
  },
  {
   "cell_type": "code",
   "execution_count": 7,
   "metadata": {},
   "outputs": [
    {
     "name": "stdout",
     "output_type": "stream",
     "text": [
      "Generalisation Accuracy for Wine data training set: 0.7145299145299144\n",
      "Generalisation Accuracy for USPS data training set: 0.9710313015843631\n"
     ]
    }
   ],
   "source": [
    "#Task 3\n",
    "from sklearn.model_selection import cross_val_score\n",
    "svm = SVC()\n",
    "cvs_wine = cross_val_score(svm, X_wine_train, y_wine_train)\n",
    "print(\"Generalisation Accuracy for Wine data training set:\",np.mean(cvs_wine))\n",
    "cvs_USPS = cross_val_score(svm, X_USPS_train, y_USPS_train)\n",
    "print(\"Generalisation Accuracy for USPS data training set:\",np.mean(cvs_USPS))\n",
    "#print(\"Accuracy on training set:\", svc.score(X_train, y_train)) \n",
    "#print(cvs)"
   ]
  },
  {
   "cell_type": "code",
   "execution_count": 8,
   "metadata": {},
   "outputs": [
    {
     "name": "stdout",
     "output_type": "stream",
     "text": [
      "Test Error rate for wine training dataset :  0.28888888888888886\n",
      "Test Error rate for USPS training dataset :  0.026666666666666616\n"
     ]
    }
   ],
   "source": [
    "#Task 4\n",
    "svm_wine = svm.fit(X_wine_train, y_wine_train)\n",
    "score_wine = svm.score(X_wine_test, y_wine_test)\n",
    "print(\"Test Error rate for wine training dataset : \",(1-score_wine))\n",
    "svm_USPS = svm.fit(X_USPS_train, y_USPS_train)\n",
    "score_USPS = svm.score(X_USPS_test, y_USPS_test)\n",
    "print(\"Test Error rate for USPS training dataset : \",(1-score_USPS))"
   ]
  },
  {
   "cell_type": "code",
   "execution_count": 9,
   "metadata": {},
   "outputs": [],
   "source": [
    "#Task 5\n",
    "#from sklearn.pipeline import Pipeline\n",
    "#from sklearn.pipeline import make_pipeline\n",
    "#from sklearn.preprocessing import StandardScaler\n",
    "#def pipelineSelection(normalizer):\n",
    "   # pipe_long_wine_ss = Pipeline([(\"scaler\", normalizer), (\"svm\", SVC())])\n",
    "   # pipe_wine_ss = make_pipeline(normalizer, SVC()) \n",
    "   # pipe_wine_ss.steps\n",
    "   # pipe_wine_ss.fit(X_train, y_train)\n",
    "   # print(\"Wine Dataset\")\n",
    "   # print(\"Accuracy Score for Wine Dataset with Pipeline \",pipe_wine_ss.score(X_wine_test, y_wine_test))\n",
    "   # from sklearn.model_selection import GridSearchCV \n",
    "   # param_grid_wine_ss = {'svc__C': [0.01, 0.1, 1, 10, 100],'svc__gamma': [0.001, 0.01, 0.1, 1, 10, 100]}\n",
    "   # grid_wine_ss = GridSearchCV(pipe_wine_ss, param_grid=param_grid_wine_ss, cv=5) \n",
    "   # grid_wine_ss.fit(X_wine_train, y_wine_train)\n",
    "   # print(\"Best cross-validation accuracy for Wine Dataset:\", grid_wine_ss.best_score_) \n",
    "   # print(\"Test set score for Wine DataSet:\", grid_wine_ss.score(X_wine_test, y_wine_test)) \n",
    "   # print(\"Best parameters for Wine Dataset:\", grid_wine_ss.best_params_)\n",
    "    "
   ]
  },
  {
   "cell_type": "markdown",
   "metadata": {},
   "source": [
    "The Generalization acuuracy for Task 3 : 0.7145299145299144.\n",
    "The Test error rate as obtained in Task 4 : 0.28888888888888886"
   ]
  },
  {
   "cell_type": "code",
   "execution_count": 10,
   "metadata": {},
   "outputs": [
    {
     "name": "stdout",
     "output_type": "stream",
     "text": [
      "Wine Dataset - StandardScaler()\n",
      "Accuracy Score for Wine Dataset with Pipeline  0.9333333333333333\n",
      "Best cross-validation accuracy for Wine Dataset: 0.9923076923076923\n",
      "Test set score for Wine DataSet: 0.9333333333333333\n",
      "Best parameters for Wine Dataset: {'svc__C': 1, 'svc__gamma': 0.01}\n"
     ]
    }
   ],
   "source": [
    "#Task 5\n",
    "#wine dataset\n",
    "#Pipelining SVC and StandardScaler()\n",
    "from sklearn.pipeline import Pipeline\n",
    "from sklearn.pipeline import make_pipeline\n",
    "from sklearn.preprocessing import StandardScaler\n",
    "pipe_long_wine_ss = Pipeline([(\"scaler\", StandardScaler()), (\"svm\", SVC())])\n",
    "pipe_wine_ss = make_pipeline(StandardScaler(), SVC()) \n",
    "pipe_wine_ss.steps\n",
    "pipe_wine_ss.fit(X_wine_train, y_wine_train)\n",
    "print(\"Wine Dataset - StandardScaler()\")\n",
    "print(\"Accuracy Score for Wine Dataset with Pipeline \",pipe_wine_ss.score(X_wine_test, y_wine_test))\n",
    "from sklearn.model_selection import GridSearchCV \n",
    "param_grid_wine_ss = {'svc__C': [0.01, 0.1, 1, 10, 100],'svc__gamma': [0.001, 0.01, 0.1, 1, 10, 100]}\n",
    "grid_wine_ss = GridSearchCV(pipe_wine_ss, param_grid=param_grid_wine_ss, cv=5) \n",
    "grid_wine_ss.fit(X_wine_train, y_wine_train)\n",
    "print(\"Best cross-validation accuracy for Wine Dataset:\", grid_wine_ss.best_score_) \n",
    "print(\"Test set score for Wine DataSet:\", grid_wine_ss.score(X_wine_test, y_wine_test)) \n",
    "print(\"Best parameters for Wine Dataset:\", grid_wine_ss.best_params_)"
   ]
  },
  {
   "cell_type": "code",
   "execution_count": 11,
   "metadata": {},
   "outputs": [
    {
     "name": "stdout",
     "output_type": "stream",
     "text": [
      "Wine Dataset - MinMaxScaler()\n",
      "Accuracy Score for Wine Dataset with Pipeline  0.9333333333333333\n",
      "Best cross-validation accuracy for Wine Dataset: 0.9925925925925926\n",
      "Test set score for Wine DataSet: 0.9333333333333333\n",
      "Best parameters for Wine Dataset: {'svc__C': 1, 'svc__gamma': 1}\n"
     ]
    }
   ],
   "source": [
    "#wine dataset\n",
    "#Pipelining SVC and MinMaxScaler()\n",
    "from sklearn.preprocessing import MinMaxScaler\n",
    "pipe_long_wine_ms = Pipeline([(\"scaler\", MinMaxScaler()), (\"svm\", SVC())])\n",
    "pipe_wine_ms = make_pipeline(MinMaxScaler(), SVC()) \n",
    "pipe_wine_ms.steps\n",
    "pipe_wine_ms.fit(X_wine_train, y_wine_train)\n",
    "print(\"Wine Dataset - MinMaxScaler()\")\n",
    "print(\"Accuracy Score for Wine Dataset with Pipeline \",pipe_wine_ms.score(X_wine_test, y_wine_test))\n",
    "from sklearn.model_selection import GridSearchCV \n",
    "param_grid_wine_ms = {'svc__C': [0.01, 0.1, 1, 10, 100],'svc__gamma': [0.001, 0.01, 0.1, 1, 10, 100]}\n",
    "grid_wine_ms = GridSearchCV(pipe_wine_ms, param_grid=param_grid_wine_ms, cv=5) \n",
    "grid_wine_ms.fit(X_wine_train, y_wine_train)\n",
    "print(\"Best cross-validation accuracy for Wine Dataset:\", grid_wine_ms.best_score_) \n",
    "print(\"Test set score for Wine DataSet:\", grid_wine_ms.score(X_wine_test, y_wine_test)) \n",
    "print(\"Best parameters for Wine Dataset:\", grid_wine_ms.best_params_)"
   ]
  },
  {
   "cell_type": "code",
   "execution_count": 12,
   "metadata": {},
   "outputs": [
    {
     "name": "stdout",
     "output_type": "stream",
     "text": [
      "Wine Dataset - RobustScaler()\n",
      "Accuracy Score for Wine Dataset with Pipeline  0.9555555555555556\n",
      "Best cross-validation accuracy for Wine Dataset: 0.9925925925925926\n",
      "Test set score for Wine DataSet: 0.9555555555555556\n",
      "Best parameters for Wine Dataset: {'svc__C': 1, 'svc__gamma': 0.01}\n"
     ]
    }
   ],
   "source": [
    "#wine dataset\n",
    "#Pipelining SVC and RobustScaler()\n",
    "from sklearn.preprocessing import RobustScaler\n",
    "pipe_long_wine_rs = Pipeline([(\"scaler\", RobustScaler()), (\"svm\", SVC())])\n",
    "pipe_wine_rs = make_pipeline(RobustScaler(), SVC()) \n",
    "pipe_wine_rs.steps\n",
    "pipe_wine_rs.fit(X_wine_train, y_wine_train)\n",
    "print(\"Wine Dataset - RobustScaler()\")\n",
    "print(\"Accuracy Score for Wine Dataset with Pipeline \",pipe_wine_rs.score(X_wine_test, y_wine_test))\n",
    "from sklearn.model_selection import GridSearchCV \n",
    "param_grid_wine_rs = {'svc__C': [0.01, 0.1, 1, 10, 100],'svc__gamma': [0.001, 0.01, 0.1, 1, 10, 100]}\n",
    "grid_wine_rs = GridSearchCV(pipe_wine_rs, param_grid=param_grid_wine_rs, cv=5) \n",
    "grid_wine_rs.fit(X_wine_train, y_wine_train)\n",
    "print(\"Best cross-validation accuracy for Wine Dataset:\", grid_wine_rs.best_score_) \n",
    "print(\"Test set score for Wine DataSet:\", grid_wine_rs.score(X_wine_test, y_wine_test)) \n",
    "print(\"Best parameters for Wine Dataset:\", grid_wine_rs.best_params_)"
   ]
  },
  {
   "cell_type": "code",
   "execution_count": 13,
   "metadata": {},
   "outputs": [
    {
     "name": "stdout",
     "output_type": "stream",
     "text": [
      "Wine Dataset - Normalizer()\n",
      "Accuracy Score for Wine Dataset with Pipeline  0.4222222222222222\n",
      "Best cross-validation accuracy for Wine Dataset: 0.9401709401709402\n",
      "Test set score for Wine DataSet: 0.8888888888888888\n",
      "Best parameters for Wine Dataset: {'svc__C': 100, 'svc__gamma': 100}\n"
     ]
    }
   ],
   "source": [
    "#wine dataset\n",
    "#Pipelining SVC and Normalizer()\n",
    "from sklearn.preprocessing import Normalizer\n",
    "pipe_long_wine_n = Pipeline([(\"scaler\", Normalizer()), (\"svm\", SVC())])\n",
    "pipe_wine_n = make_pipeline(Normalizer(), SVC()) \n",
    "pipe_wine_n.steps\n",
    "pipe_wine_n.fit(X_wine_train, y_wine_train)\n",
    "print(\"Wine Dataset - Normalizer()\")\n",
    "print(\"Accuracy Score for Wine Dataset with Pipeline \",pipe_wine_n.score(X_wine_test, y_wine_test))\n",
    "from sklearn.model_selection import GridSearchCV \n",
    "param_grid_wine_n = {'svc__C': [0.01, 0.1, 1, 10, 100],'svc__gamma': [0.001, 0.01, 0.1, 1, 10, 100]}\n",
    "grid_wine_n = GridSearchCV(pipe_wine_n, param_grid=param_grid_wine_n, cv=5) \n",
    "grid_wine_n.fit(X_wine_train, y_wine_train)\n",
    "print(\"Best cross-validation accuracy for Wine Dataset:\", grid_wine_n.best_score_) \n",
    "print(\"Test set score for Wine DataSet:\", grid_wine_n.score(X_wine_test, y_wine_test)) \n",
    "print(\"Best parameters for Wine Dataset:\", grid_wine_n.best_params_)"
   ]
  },
  {
   "cell_type": "code",
   "execution_count": 18,
   "metadata": {},
   "outputs": [
    {
     "name": "stdout",
     "output_type": "stream",
     "text": [
      "USPS Dataset - StandardScaler()\n",
      "Accuracy Score for USPS Dataset with Pipeline  0.9681720430107527\n",
      "Best cross-validation accuracy for USPS Dataset: 0.9670159361935176\n",
      "Test set score for USPS DataSet: 0.963010752688172\n",
      "Best parameters for USPS Dataset: {'svc__C': 100, 'svc__gamma': 0.001}\n"
     ]
    }
   ],
   "source": [
    "#Task 5\n",
    "#USPS dataset\n",
    "#Pipelining SVC and StandardScaler()\n",
    "from sklearn.pipeline import Pipeline\n",
    "from sklearn.pipeline import make_pipeline\n",
    "from sklearn.preprocessing import StandardScaler\n",
    "pipe_long_USPS_ss = Pipeline([(\"scaler\", StandardScaler()), (\"svm\", SVC())])\n",
    "pipe_USPS_ss = make_pipeline(StandardScaler(), SVC()) \n",
    "pipe_USPS_ss.steps\n",
    "pipe_USPS_ss.fit(X_USPS_train, y_USPS_train)\n",
    "print(\"USPS Dataset - StandardScaler()\")\n",
    "print(\"Accuracy Score for USPS Dataset with Pipeline \",pipe_USPS_ss.score(X_USPS_test, y_USPS_test))\n",
    "from sklearn.model_selection import GridSearchCV \n",
    "param_grid_USPS_ss = {'svc__C': [0.01, 0.1, 1, 10, 100],'svc__gamma': [0.001, 0.01, 0.1, 1, 10, 100]}\n",
    "grid_USPS_ss = GridSearchCV(pipe_USPS_ss, param_grid=param_grid_USPS_ss, cv=5,n_jobs = -1) \n",
    "grid_USPS_ss.fit(X_USPS_train, y_USPS_train)\n",
    "print(\"Best cross-validation accuracy for USPS Dataset:\", grid_USPS_ss.best_score_) \n",
    "print(\"Test set score for USPS DataSet:\", grid_USPS_ss.score(X_USPS_test, y_USPS_test)) \n",
    "print(\"Best parameters for USPS Dataset:\", grid_USPS_ss.best_params_)"
   ]
  },
  {
   "cell_type": "code",
   "execution_count": 27,
   "metadata": {},
   "outputs": [
    {
     "name": "stdout",
     "output_type": "stream",
     "text": [
      "USPS Dataset\n",
      "Accuracy Score for USPS Dataset with Pipeline  0.9733333333333334\n",
      "Best cross-validation accuracy for USPS Dataset: 0.9718915166381266\n",
      "Test set score for USPS DataSet: 0.970752688172043\n",
      "Best parameters for USPS Dataset: {'svc__C': 10, 'svc__gamma': 0.01}\n"
     ]
    }
   ],
   "source": [
    "#USPS dataset\n",
    "#Pipelining SVC and MinMaxScaler()\n",
    "from sklearn.preprocessing import MinMaxScaler\n",
    "pipe_long_USPS_ms = Pipeline([(\"scaler\", MinMaxScaler()), (\"svm\", SVC())])\n",
    "pipe_USPS_ms = make_pipeline(MinMaxScaler(), SVC()) \n",
    "pipe_USPS_ms.steps\n",
    "pipe_USPS_ms.fit(X_USPS_train, y_USPS_train)\n",
    "print(\"USPS Dataset - MinMaxScaler()\")\n",
    "print(\"Accuracy Score for USPS Dataset with Pipeline \",pipe_USPS_ms.score(X_USPS_test, y_USPS_test))\n",
    "from sklearn.model_selection import GridSearchCV \n",
    "param_grid_USPS_ms = {'svc__C': [0.01, 0.1, 1, 10, 100],'svc__gamma': [0.001, 0.01, 0.1, 1, 10, 100]}\n",
    "grid_USPS_ms = GridSearchCV(pipe_USPS_ms, param_grid=param_grid_USPS_ms, cv=5, n_jobs = -1) \n",
    "grid_USPS_ms.fit(X_USPS_train, y_USPS_train)\n",
    "print(\"Best cross-validation accuracy for USPS Dataset:\", grid_USPS_ms.best_score_) \n",
    "print(\"Test set score for USPS DataSet:\", grid_USPS_ms.score(X_USPS_test, y_USPS_test)) \n",
    "print(\"Best parameters for USPS Dataset:\", grid_USPS_ms.best_params_)"
   ]
  },
  {
   "cell_type": "code",
   "execution_count": 28,
   "metadata": {},
   "outputs": [
    {
     "name": "stdout",
     "output_type": "stream",
     "text": [
      "USPS Dataset\n",
      "Accuracy Score for USPS Dataset with Pipeline  0.5888172043010753\n",
      "Best cross-validation accuracy for USPS Dataset: 0.8782567377855942\n",
      "Test set score for USPS DataSet: 0.9066666666666666\n",
      "Best parameters for USPS Dataset: {'svc__C': 100, 'svc__gamma': 0.001}\n"
     ]
    }
   ],
   "source": [
    "#USPS dataset\n",
    "#Pipelining SVC and RobustScaler()\n",
    "from sklearn.preprocessing import RobustScaler\n",
    "pipe_long_USPS_rs = Pipeline([(\"scaler\", RobustScaler()), (\"svm\", SVC())])\n",
    "pipe_USPS_rs = make_pipeline(RobustScaler(), SVC()) \n",
    "pipe_USPS_rs.steps\n",
    "pipe_USPS_rs.fit(X_USPS_train, y_USPS_train)\n",
    "print(\"USPS Dataset - RobustScaler()\")\n",
    "print(\"Accuracy Score for USPS Dataset with Pipeline \",pipe_USPS_rs.score(X_USPS_test, y_USPS_test))\n",
    "from sklearn.model_selection import GridSearchCV \n",
    "param_grid_USPS_rs = {'svc__C': [0.01, 0.1, 1, 10, 100],'svc__gamma': [0.001, 0.01, 0.1, 1, 10, 100]}\n",
    "grid_USPS_rs = GridSearchCV(pipe_USPS_rs, param_grid=param_grid_USPS_rs, cv=5, n_jobs = -1) \n",
    "grid_USPS_rs.fit(X_USPS_train, y_USPS_train)\n",
    "print(\"Best cross-validation accuracy for USPS Dataset:\", grid_USPS_rs.best_score_) \n",
    "print(\"Test set score for USPS DataSet:\", grid_USPS_rs.score(X_USPS_test, y_USPS_test)) \n",
    "print(\"Best parameters for USPS Dataset:\", grid_USPS_rs.best_params_)"
   ]
  },
  {
   "cell_type": "code",
   "execution_count": 29,
   "metadata": {},
   "outputs": [
    {
     "name": "stdout",
     "output_type": "stream",
     "text": [
      "USPS Dataset - Normalizer()\n",
      "Accuracy Score for USPS Dataset with Pipeline  0.9733333333333334\n",
      "Best cross-validation accuracy for USPS Dataset: 0.9754763631127773\n",
      "Test set score for USPS DataSet: 0.9741935483870968\n",
      "Best parameters for USPS Dataset: {'svc__C': 10, 'svc__gamma': 1}\n"
     ]
    }
   ],
   "source": [
    "#USPS dataset\n",
    "#Pipelining SVC and Normalizer()\n",
    "from sklearn.preprocessing import Normalizer\n",
    "pipe_long_USPS_n = Pipeline([(\"scaler\", Normalizer()), (\"svm\", SVC())])\n",
    "pipe_USPS_n = make_pipeline(Normalizer(), SVC()) \n",
    "pipe_USPS_n.steps\n",
    "pipe_USPS_n.fit(X_USPS_train, y_USPS_train)\n",
    "print(\"USPS Dataset - Normalizer()\")\n",
    "print(\"Accuracy Score for USPS Dataset with Pipeline \",pipe_USPS_n.score(X_USPS_test, y_USPS_test))\n",
    "from sklearn.model_selection import GridSearchCV \n",
    "param_grid_USPS_n = {'svc__C': [0.01, 0.1, 1, 10, 100],'svc__gamma': [0.001, 0.01, 0.1, 1, 10, 100]}\n",
    "grid_USPS_n = GridSearchCV(pipe_USPS_n, param_grid=param_grid_USPS_n, cv=5, n_jobs = -1) \n",
    "grid_USPS_n.fit(X_USPS_train, y_USPS_train)\n",
    "print(\"Best cross-validation accuracy for USPS Dataset:\", grid_USPS_n.best_score_) \n",
    "print(\"Test set score for USPS DataSet:\", grid_USPS_n.score(X_USPS_test, y_USPS_test)) \n",
    "print(\"Best parameters for USPS Dataset:\", grid_USPS_n.best_params_)"
   ]
  },
  {
   "cell_type": "code",
   "execution_count": null,
   "metadata": {},
   "outputs": [],
   "source": [
    "#Best way to do pipelining for wine dataset is by using RobustScaler\n",
    "#Best way to do pipelining for USPS dataset is by using Normalizer"
   ]
  },
  {
   "cell_type": "code",
   "execution_count": 19,
   "metadata": {},
   "outputs": [
    {
     "name": "stdout",
     "output_type": "stream",
     "text": [
      "Test Error Rate for wine dataset for RobustScaler:  0.044444444444444446\n"
     ]
    }
   ],
   "source": [
    "#Task 6\n",
    "grid_wine_rs_best = grid_wine_rs.fit(X_wine_train, y_wine_train)\n",
    "y_wine_predicted = grid_wine_rs_best.predict(X_wine_test)\n",
    "#print(\"Predicted Label for Wine dataset \\n\",y_wine_predicted)\n",
    "print(\"Test Error Rate for wine dataset for RobustScaler: \",np.mean(y_wine_predicted!=y_wine_test))"
   ]
  },
  {
   "cell_type": "code",
   "execution_count": 31,
   "metadata": {},
   "outputs": [
    {
     "name": "stdout",
     "output_type": "stream",
     "text": [
      "Predicted Label for Wine dataset \n",
      " [1. 2. 5. ... 5. 1. 8.]\n",
      "Test Error Rate for USPS dataset for RobustScaler:  0.025806451612903226\n"
     ]
    }
   ],
   "source": [
    "grid_USPS_n_best = grid_USPS_n.fit(X_USPS_train, y_USPS_train)\n",
    "y_USPS_predicted = grid_USPS_n_best.predict(X_USPS_test)\n",
    "#print(\"Predicted Label for Wine dataset \\n\",y_USPS_predicted)\n",
    "print(\"Test Error Rate for USPS dataset for RobustScaler: \",np.mean(y_USPS_predicted!=y_USPS_test))"
   ]
  },
  {
   "cell_type": "code",
   "execution_count": 32,
   "metadata": {},
   "outputs": [],
   "source": [
    "#Task 7\n",
    "from sklearn.model_selection import KFold \n",
    "kf = KFold(shuffle=True, random_state=301) \n",
    "#kf"
   ]
  },
  {
   "cell_type": "code",
   "execution_count": 33,
   "metadata": {},
   "outputs": [
    {
     "data": {
      "text/plain": [
       "5"
      ]
     },
     "execution_count": 33,
     "metadata": {},
     "output_type": "execute_result"
    }
   ],
   "source": [
    "kf.get_n_splits()"
   ]
  },
  {
   "cell_type": "code",
   "execution_count": 34,
   "metadata": {},
   "outputs": [],
   "source": [
    "def crossConformalPredictor(X_train,X_test,y_train):\n",
    "    \"\"\"\n",
    "    This function computes the p value - cross conformal prediction for each of the test sample data for all the labels\n",
    "    \"\"\"\n",
    "    accuracy_rate = None\n",
    "    folds_ranks = None\n",
    "    for rest_index, fold_index in kf.split(X_train):\n",
    "        #print(rest_index)\n",
    "        X_rest, X_fold = X_train[rest_index], X_train[fold_index]\n",
    "        y_rest, y_fold = y_train[rest_index], y_train[fold_index] \n",
    "        grid_wine_rs.best_estimator_.fit(X_rest,y_rest)\n",
    "        #print(X_fold)\n",
    "        #print(grid_wine_rs.score(X_fold,y_fold))\n",
    "        #print(grid_wine_rs.best_estimator_)\n",
    "        conformal_score_fold = grid_wine_rs.best_estimator_.decision_function(X_fold)\n",
    "        conformal_score_one = grid_wine_rs.best_estimator_.decision_function(X_test)\n",
    "        #print(conformal_score_fold)\n",
    "        fold_rank = None\n",
    "        for each_sample in conformal_score_one:\n",
    "            rank = np.sum(conformal_score_fold<each_sample,0)+1\n",
    "            if fold_rank is None:\n",
    "                fold_rank = [rank-1]\n",
    "            else:\n",
    "                fold_rank = np.vstack((fold_rank,[rank-1]))\n",
    "        if folds_ranks is None:\n",
    "            folds_ranks = [fold_rank]\n",
    "        else:\n",
    "            folds_ranks = np.vstack((folds_ranks, [fold_rank]))\n",
    "    #print(folds_ranks)\n",
    "    sum_ranks = np.sum(folds_ranks,0)\n",
    "    p_values = (sum_ranks+1)/len(y_train)\n",
    "    return(p_values) "
   ]
  },
  {
   "cell_type": "code",
   "execution_count": 37,
   "metadata": {},
   "outputs": [
    {
     "name": "stdout",
     "output_type": "stream",
     "text": [
      "\n",
      "Accuracy of the model for wine dataset:  0.8888888888888888\n"
     ]
    }
   ],
   "source": [
    "#calculating p value for wine dataset\n",
    "y_wine_p_values = crossConformalPredictor(X_wine_train,X_wine_test,y_wine_train)\n",
    "#print(y_wine_p_values)\n",
    "y_hat_wine = np.argmax(y_wine_p_values,axis=1)\n",
    "#print(y_hat_wine)\n",
    "#print(y_wine_test)\n",
    "#print(\"P values for wine dataset: \\n\",y_wine_p_values)\n",
    "print(\"\\nAccuracy of the model for wine dataset: \",np.mean(y_hat_wine==y_wine_test))"
   ]
  },
  {
   "cell_type": "code",
   "execution_count": 36,
   "metadata": {},
   "outputs": [
    {
     "name": "stdout",
     "output_type": "stream",
     "text": [
      "\n",
      "Accuracy of the model for wine dataset:  0.7767741935483871\n"
     ]
    }
   ],
   "source": [
    "#calculating p value for USPS dataset\n",
    "y_USPS_p_values = crossConformalPredictor(X_USPS_train,X_USPS_test,y_USPS_train)\n",
    "#print(y_wine_p_values)\n",
    "y_hat_USPS = np.argmax(y_USPS_p_values,axis=1)\n",
    "#print(y_hat_USPS)\n",
    "#print(y_USPS_test)\n",
    "#print(\"P values for USPS dataset: \\n\",y_USPS_p_values)\n",
    "print(\"\\nAccuracy of the model for USPS dataset: \",np.mean(y_hat_USPS==y_USPS_test))"
   ]
  },
  {
   "cell_type": "code",
   "execution_count": 38,
   "metadata": {},
   "outputs": [],
   "source": [
    "#function to calculate average false p value for the given datset\n",
    "def averageFalseP(y_test,y_p_values):\n",
    "    #print(y_p_values)\n",
    "    avg_false_p_value = 0\n",
    "    total_sum_rowwise = 0\n",
    "    num_rows, num_cols = y_p_values.shape\n",
    "    for index_label,n in enumerate(y_test):                           #looping over each test data label\n",
    "        for index_p_value,m in enumerate(y_p_values):                 #looping over each row of p value data array\n",
    "            if index_label == index_p_value:                          #comparing indexed for y_\n",
    "                sum = 0\n",
    "                for index, o in enumerate(y_p_values[index_p_value]): #looping over each row value for p value array\n",
    "                    if n != index:                                    #eliminating true label\n",
    "                        sum = sum+o\n",
    "                avg_rowwise = sum\n",
    "                total_sum_rowwise = total_sum_rowwise + avg_rowwise   #getting total false p values sum\n",
    "    avg_false_p_value = total_sum_rowwise/(y_p_values.size-num_rows)\n",
    "    return(avg_false_p_value)                                         #returning average false p value "
   ]
  },
  {
   "cell_type": "code",
   "execution_count": 40,
   "metadata": {},
   "outputs": [
    {
     "name": "stdout",
     "output_type": "stream",
     "text": [
      "Average false p value for wine dataset:  0.3432748538011696\n"
     ]
    }
   ],
   "source": [
    "#calculating average false p value for wine dataset\n",
    "average_false_p_value_wine = averageFalseP(y_wine_test,y_wine_p_values)\n",
    "print(\"Average false p value for wine dataset: \",average_false_p_vale_wine)"
   ]
  },
  {
   "cell_type": "code",
   "execution_count": 41,
   "metadata": {},
   "outputs": [
    {
     "name": "stdout",
     "output_type": "stream",
     "text": [
      "Average false p value for USPS dataset:  0.4571201053525969\n"
     ]
    }
   ],
   "source": [
    "#calculating average false p value for USPS dataset\n",
    "average_false_p_value_USPS = averageFalseP(y_USPS_test,y_USPS_p_values)\n",
    "print(\"Average false p value for USPS dataset: \",average_false_p_value_USPS)"
   ]
  },
  {
   "cell_type": "code",
   "execution_count": 42,
   "metadata": {},
   "outputs": [
    {
     "data": {
      "text/plain": [
       "[<matplotlib.lines.Line2D at 0x7fbc43ef2310>]"
      ]
     },
     "execution_count": 42,
     "metadata": {},
     "output_type": "execute_result"
    },
    {
     "data": {
      "image/png": "[encoded data removed]",
      "text/plain": [
       "<Figure size 432x288 with 1 Axes>"
      ]
     },
     "metadata": {
      "needs_background": "light"
     },
     "output_type": "display_data"
    }
   ],
   "source": [
    "%matplotlib inline\n",
    "import matplotlib.pyplot as plt\n",
    "eps = np.zeros(100)  # a range of significance levels\n",
    "err = np.zeros(100)  # the corresponding error rates\n",
    "for k in range(100):\n",
    "    eps[k] = k/100 # considering eps = k%\n",
    "    err[k] = 0 # initializing the error rate \n",
    "    for j in range(len(y_wine_test)):\n",
    "        if (y_wine_p_values[j,y_wine_test[j]] <= eps[k]): # if we made an error \n",
    "            err[k] = err[k] + 1 # count this error\n",
    "    err[k] = err[k] / len(y_wine_test) # number of errors -> error rate \n",
    "plt.plot(eps,err)"
   ]
  },
  {
   "cell_type": "code",
   "execution_count": 56,
   "metadata": {},
   "outputs": [
    {
     "name": "stdout",
     "output_type": "stream",
     "text": [
      "[[0.01175964 0.93689947 0.2004876  ... 0.7562025  0.62096659 0.87007027]\n",
      " [0.67015632 0.28610354 0.85917109 ... 0.5181414  0.25541374 0.27391367]\n",
      " [0.2994407  0.69267173 0.13953822 ... 0.10411588 0.84081457 0.39566901]\n",
      " ...\n",
      " [0.77929155 0.48573068 0.86203929 ... 0.59228453 0.38563029 0.42750609]\n",
      " [0.01936039 0.96256991 0.13638319 ... 0.22042163 0.92714757 0.74057077]\n",
      " [0.81500072 0.4972035  0.83522157 ... 0.6113581  0.40169224 0.44672307]]\n",
      "2325\n"
     ]
    },
    {
     "ename": "IndexError",
     "evalue": "only integers, slices (`:`), ellipsis (`...`), numpy.newaxis (`None`) and integer or boolean arrays are valid indices",
     "output_type": "error",
     "traceback": [
      "\u001b[0;31m---------------------------------------------------------------------------\u001b[0m",
      "\u001b[0;31mIndexError\u001b[0m                                Traceback (most recent call last)",
      "\u001b[0;32m<ipython-input-56-f29906d129ac>\u001b[0m in \u001b[0;36m<module>\u001b[0;34m\u001b[0m\n\u001b[1;32m      9\u001b[0m     \u001b[0merr\u001b[0m\u001b[0;34m[\u001b[0m\u001b[0mk\u001b[0m\u001b[0;34m]\u001b[0m \u001b[0;34m=\u001b[0m \u001b[0;36m0\u001b[0m \u001b[0;31m# initializing the error rate\u001b[0m\u001b[0;34m\u001b[0m\u001b[0;34m\u001b[0m\u001b[0m\n\u001b[1;32m     10\u001b[0m     \u001b[0;32mfor\u001b[0m \u001b[0mj\u001b[0m \u001b[0;32min\u001b[0m \u001b[0mrange\u001b[0m\u001b[0;34m(\u001b[0m\u001b[0mlen\u001b[0m\u001b[0;34m(\u001b[0m\u001b[0my_USPS_test\u001b[0m\u001b[0;34m)\u001b[0m\u001b[0;34m)\u001b[0m\u001b[0;34m:\u001b[0m\u001b[0;34m\u001b[0m\u001b[0;34m\u001b[0m\u001b[0m\n\u001b[0;32m---> 11\u001b[0;31m         \u001b[0;32mif\u001b[0m \u001b[0;34m(\u001b[0m\u001b[0my_USPS_p_values\u001b[0m\u001b[0;34m[\u001b[0m\u001b[0mj\u001b[0m\u001b[0;34m,\u001b[0m\u001b[0my_USPS_test\u001b[0m\u001b[0;34m[\u001b[0m\u001b[0mj\u001b[0m\u001b[0;34m]\u001b[0m\u001b[0;34m]\u001b[0m \u001b[0;34m<=\u001b[0m \u001b[0meps\u001b[0m\u001b[0;34m[\u001b[0m\u001b[0mk\u001b[0m\u001b[0;34m]\u001b[0m\u001b[0;34m)\u001b[0m\u001b[0;34m:\u001b[0m \u001b[0;31m# if we made an error\u001b[0m\u001b[0;34m\u001b[0m\u001b[0;34m\u001b[0m\u001b[0m\n\u001b[0m\u001b[1;32m     12\u001b[0m             \u001b[0merr\u001b[0m\u001b[0;34m[\u001b[0m\u001b[0mk\u001b[0m\u001b[0;34m]\u001b[0m \u001b[0;34m=\u001b[0m \u001b[0merr\u001b[0m\u001b[0;34m[\u001b[0m\u001b[0mk\u001b[0m\u001b[0;34m]\u001b[0m \u001b[0;34m+\u001b[0m \u001b[0;36m1\u001b[0m \u001b[0;31m# count this error\u001b[0m\u001b[0;34m\u001b[0m\u001b[0;34m\u001b[0m\u001b[0m\n\u001b[1;32m     13\u001b[0m     \u001b[0merr\u001b[0m\u001b[0;34m[\u001b[0m\u001b[0mk\u001b[0m\u001b[0;34m]\u001b[0m \u001b[0;34m=\u001b[0m \u001b[0merr\u001b[0m\u001b[0;34m[\u001b[0m\u001b[0mk\u001b[0m\u001b[0;34m]\u001b[0m \u001b[0;34m/\u001b[0m \u001b[0mlen\u001b[0m\u001b[0;34m(\u001b[0m\u001b[0my_USPS_test\u001b[0m\u001b[0;34m)\u001b[0m \u001b[0;31m# number of errors -> error rate\u001b[0m\u001b[0;34m\u001b[0m\u001b[0;34m\u001b[0m\u001b[0m\n",
      "\u001b[0;31mIndexError\u001b[0m: only integers, slices (`:`), ellipsis (`...`), numpy.newaxis (`None`) and integer or boolean arrays are valid indices"
     ]
    }
   ],
   "source": [
    "print(y_USPS_p_values)\n",
    "print(len(y_USPS_test))\n",
    "%matplotlib inline\n",
    "import matplotlib.pyplot as plt\n",
    "eps = np.zeros(100)  # a range of significance levels\n",
    "err = np.zeros(100)  # the corresponding error rates\n",
    "for k in range(100):\n",
    "    eps[k] = k/100 # considering eps = k%\n",
    "    err[k] = 0 # initializing the error rate \n",
    "    for j in range(len(y_USPS_test)):\n",
    "        if (y_USPS_p_values[j,y_USPS_test[j]] <= eps[k]): # if we made an error \n",
    "            err[k] = err[k] + 1 # count this error\n",
    "    err[k] = err[k] / len(y_USPS_test) # number of errors -> error rate \n",
    "plt.plot(eps,err)"
   ]
  },
  {
   "cell_type": "code",
   "execution_count": null,
   "metadata": {},
   "outputs": [],
   "source": []
  }
 ],
 "metadata": {
  "kernelspec": {
   "display_name": "Python 3",
   "language": "python",
   "name": "python3"
  },
  "language_info": {
   "codemirror_mode": {
    "name": "ipython",
    "version": 3
   },
   "file_extension": ".py",
   "mimetype": "text/x-python",
   "name": "python",
   "nbconvert_exporter": "python",
   "pygments_lexer": "ipython3",
   "version": "3.8.5"
  }
 },
 "nbformat": 4,
 "nbformat_minor": 4
}
